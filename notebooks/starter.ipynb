{
  "cells": [
    {
      "cell_type": "markdown",
      "metadata": {},
      "source": [
        "# AI/ML Mini Project Starter Notebook\n",
        "\n",
        "This notebook demonstrates a minimal workflow:\n",
        "- Load a dataset\n",
        "- Split train/test\n",
        "- Train a simple model (LogisticRegression)\n",
        "- Evaluate with accuracy and a confusion matrix\n"
      ]
    },
    {
      "cell_type": "code",
      "execution_count": null,
      "metadata": {},
      "outputs": [],
      "source": [
        "# Imports\n",
        "import numpy as np\n",
        "import pandas as pd\n",
        "from sklearn.datasets import load_breast_cancer\n",
        "from sklearn.model_selection import train_test_split\n",
        "from sklearn.preprocessing import StandardScaler\n",
        "from sklearn.linear_model import LogisticRegression\n",
        "from sklearn.metrics import accuracy_score, confusion_matrix, ConfusionMatrixDisplay\n",
        "import matplotlib.pyplot as plt\n",
        "import seaborn as sns\n",
        "\n",
        "sns.set_theme(style=\"whitegrid\", context=\"notebook\")\n"
      ]
    },
    {
      "cell_type": "code",
      "execution_count": null,
      "metadata": {},
      "outputs": [],
      "source": [
        "# Load dataset\n",
        "raw = load_breast_cancer()\n",
        "X = pd.DataFrame(raw.data, columns=raw.feature_names)\n",
        "y = pd.Series(raw.target, name=\"target\")\n",
        "\n",
        "print(f\"Shapes: X={X.shape}, y={y.shape}\")\n",
        "X.head()\n"
      ]
    },
    {
      "cell_type": "code",
      "execution_count": null,
      "metadata": {},
      "outputs": [],
      "source": [
        "# Train/test split and scaling\n",
        "X_train, X_test, y_train, y_test = train_test_split(\n",
        "    X, y, test_size=0.2, random_state=42, stratify=y\n",
        ")\n",
        "\n",
        "scaler = StandardScaler()\n",
        "X_train_scaled = scaler.fit_transform(X_train)\n",
        "X_test_scaled = scaler.transform(X_test)\n",
        "\n",
        "print(X_train_scaled.shape, X_test_scaled.shape)\n"
      ]
    },
    {
      "cell_type": "code",
      "execution_count": null,
      "metadata": {},
      "outputs": [],
      "source": [
        "# Train logistic regression\n",
        "clf = LogisticRegression(max_iter=1000, n_jobs=None)\n",
        "clf.fit(X_train_scaled, y_train)\n",
        "\n",
        "# Evaluate\n",
        "preds = clf.predict(X_test_scaled)\n",
        "acc = accuracy_score(y_test, preds)\n",
        "print(f\"Accuracy: {acc:.3f}\")\n"
      ]
    },
    {
      "cell_type": "code",
      "execution_count": null,
      "metadata": {},
      "outputs": [],
      "source": [
        "# Confusion matrix\n",
        "cm = confusion_matrix(y_test, preds)\n",
        "fig, ax = plt.subplots(figsize=(4, 4))\n",
        "disp = ConfusionMatrixDisplay(confusion_matrix=cm, display_labels=raw.target_names)\n",
        "disp.plot(ax=ax, cmap=\"Blues\", colorbar=False)\n",
        "ax.set_title(\"Confusion Matrix\")\n",
        "plt.tight_layout()\n",
        "plt.show()\n"
      ]
    }
  ],
  "metadata": {
    "language_info": {
      "name": "python"
    }
  },
  "nbformat": 4,
  "nbformat_minor": 2
}
